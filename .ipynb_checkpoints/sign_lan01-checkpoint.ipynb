{
 "cells": [
  {
   "cell_type": "code",
   "execution_count": 1,
   "id": "0e04fb5d",
   "metadata": {},
   "outputs": [
    {
     "data": {
      "text/plain": [
       "<module 'PIL.Image' from 'C:\\\\Users\\\\jason\\\\anaconda3\\\\envs\\\\datacamp\\\\lib\\\\site-packages\\\\PIL\\\\Image.py'>"
      ]
     },
     "execution_count": 1,
     "metadata": {},
     "output_type": "execute_result"
    }
   ],
   "source": [
    "import os\n",
    "import numpy as np\n",
    "import warnings\n",
    "warnings.filterwarnings(action='ignore') # 경고 메세지 숨김\n",
    "from glob import glob\n",
    "import numpy as np\n",
    "import matplotlib\n",
    "import seaborn as sns\n",
    "import PIL\n",
    "PIL.Image"
   ]
  },
  {
   "cell_type": "code",
   "execution_count": null,
   "id": "20cc12ed",
   "metadata": {},
   "outputs": [],
   "source": []
  }
 ],
 "metadata": {
  "kernelspec": {
   "display_name": "Python 3",
   "language": "python",
   "name": "python3"
  },
  "language_info": {
   "codemirror_mode": {
    "name": "ipython",
    "version": 3
   },
   "file_extension": ".py",
   "mimetype": "text/x-python",
   "name": "python",
   "nbconvert_exporter": "python",
   "pygments_lexer": "ipython3",
   "version": "3.8.8"
  }
 },
 "nbformat": 4,
 "nbformat_minor": 5
}
